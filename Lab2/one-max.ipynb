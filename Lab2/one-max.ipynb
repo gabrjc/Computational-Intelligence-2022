{
 "cells": [
  {
   "cell_type": "code",
   "execution_count": 1,
   "metadata": {},
   "outputs": [],
   "source": [
    "import logging\n",
    "from collections import namedtuple\n",
    "import random\n",
    "from matplotlib import pyplot as plt\n",
    "import itertools\n",
    "import math"
   ]
  },
  {
   "cell_type": "code",
   "execution_count": 2,
   "metadata": {},
   "outputs": [],
   "source": [
    "PROBLEM_SIZE = [5, 10, 20, 100, 500, 1000]\n",
    "\n",
    "N=0\n",
    "\n",
    "OFFSPRING_SIZE=0\n",
    "\n",
    "TOURNAMENT_SIZE=10\n",
    "\n",
    "POPULATION_SIZE = 100\n",
    "\n",
    "NUM_GENERATIONS = 250"
   ]
  },
  {
   "cell_type": "markdown",
   "metadata": {},
   "source": [
    "### Problem definition:"
   ]
  },
  {
   "cell_type": "code",
   "execution_count": 3,
   "metadata": {},
   "outputs": [],
   "source": [
    "def problem(N, seed=None):\n",
    "    random.seed(seed)\n",
    "    return [\n",
    "        list(set(random.randint(0, N - 1) for n in range(random.randint(N // 5, N // 2))))\n",
    "        for n in range(random.randint(N, N * 5))\n",
    "    ]"
   ]
  },
  {
   "cell_type": "markdown",
   "metadata": {},
   "source": [
    "## Function of genetic algorithm"
   ]
  },
  {
   "cell_type": "code",
   "execution_count": 4,
   "metadata": {},
   "outputs": [],
   "source": [
    "\n",
    "Individual = namedtuple(\"Individual\", [\"genome\", \"fitness\"])\n",
    "\n",
    "def fitness(genome):\n",
    "    count=0\n",
    "    for l in genome:\n",
    "        count+=len(l)\n",
    "    return (set(itertools.chain(*genome)).__len__(),-count)\n",
    "\n",
    "\n",
    "\n",
    "def goal(state):\n",
    "    return set(itertools.chain(*state))==set(range(0,N))\n",
    "\n",
    "def tournament(population, tournament_size=TOURNAMENT_SIZE):\n",
    "    return max(random.choices(population, k=tournament_size), key=lambda i: i.fitness)\n",
    "\n",
    "\n",
    "def cross_over(g1, g2):\n",
    "    \n",
    "    cut = random.randint(0, len(g1))\n",
    "    c1=g2[:cut]+g1[cut:]\n",
    "    c2=g1[:cut] + g2[cut:]\n",
    "    r1=fitness(c1)\n",
    "    r2=fitness(c2)\n",
    "    if r1>r2: return c1\n",
    "    else: return c2\n",
    "\n",
    "\n",
    "def cross_over_twopoints(g1, g2):\n",
    "    \n",
    "    cut1 = random.randint(0, len(g1))\n",
    "    cut2 = random.randint(0, len(g1))\n",
    "\n",
    "    try1=remove_identical(g1[:min(cut1,cut2)] + g2[min(cut1,cut2):max(cut1,cut2)] + g1[max(cut1,cut2):])\n",
    "    try2=remove_identical(g2[:min(cut1,cut2)] + g1[min(cut1,cut2):max(cut1,cut2)] + g2[max(cut1,cut2):])\n",
    "    r1=fitness(try1)\n",
    "    r2=fitness(try2)\n",
    "    if r1>r2: return try1\n",
    "    else: return try2\n",
    "    \n",
    "def mutation2(g,generator): \n",
    "    for i in generator:\n",
    "            m=random.choice(generator)\n",
    "            if g.__contains__(m):\n",
    "                continue\n",
    "            else:\n",
    "                g.append(m)\n",
    "                break\n",
    "    return g \n",
    "\n",
    "\n",
    "def mutation(g,generator):\n",
    "    #remove element\n",
    "    if random.random()>0.5 and len(g)>1:\n",
    "        g.pop(random.randint(0,len(g)-1))\n",
    "\n",
    "    #Add element\n",
    "    else:\n",
    "        for i in generator:\n",
    "            m=random.choice(generator)\n",
    "            if g.__contains__(m):\n",
    "                continue\n",
    "            else:\n",
    "                g.append(m)\n",
    "                break\n",
    "    return g \n",
    "\n",
    "def solvable(Gen):\n",
    "    if set(itertools.chain(*Gen))!=set(range(0,N)):\n",
    "        return False\n",
    "    else:\n",
    "        return True\n",
    "\n",
    "def remove_identical(Lista):\n",
    "    \n",
    "    L = []\n",
    "    for l in Lista:\n",
    "        if L.__contains__(l):\n",
    "            continue\n",
    "        else:\n",
    "            L.append(l)\n",
    "    return L"
   ]
  },
  {
   "cell_type": "markdown",
   "metadata": {},
   "source": [
    "# Genetic Algorithm"
   ]
  },
  {
   "cell_type": "markdown",
   "metadata": {},
   "source": [
    "## Evolution"
   ]
  },
  {
   "cell_type": "code",
   "execution_count": 5,
   "metadata": {},
   "outputs": [],
   "source": [
    "def Evolution(population, generator,fitness_log):\n",
    "    for g in range(NUM_GENERATIONS):\n",
    "        offspring = list()\n",
    "        for i in range(OFFSPRING_SIZE):\n",
    "            if random.random() < 0.2:\n",
    "                p = tournament(population)\n",
    "                o = mutation(p.genome,generator)\n",
    "            else:\n",
    "                p1 = tournament(population)\n",
    "                p2 = tournament(population)\n",
    "                o = cross_over(p1.genome, p2.genome)\n",
    "            f = fitness(o)\n",
    "            fitness_log.append((g + 1, f))\n",
    "            offspring.append(Individual(o, f))\n",
    "        population += offspring\n",
    "        population = sorted(population, key=lambda i: i.fitness, reverse=True)[:N]\n",
    "    #sorted(fitness_log[-POPULATION_SIZE:], key=lambda i: i[1],reverse=True)[0]\n",
    "\n",
    "    \n",
    "    \n",
    "    logging.info(f\" For N={N} -> W={-population[0][1][1]} BLOAT={int((-population[0][1][1]-N)*100/N)} %\")\n"
   ]
  },
  {
   "cell_type": "markdown",
   "metadata": {},
   "source": [
    "## Initial Population"
   ]
  },
  {
   "cell_type": "code",
   "execution_count": 6,
   "metadata": {},
   "outputs": [
    {
     "name": "stderr",
     "output_type": "stream",
     "text": [
      "INFO:root:Starting calculating for N=5 GEN MAX=250\n",
      "INFO:root: For N=5 -> W=5 BLOAT=0 %\n",
      "INFO:root:Starting calculating for N=10 GEN MAX=250\n",
      "INFO:root: For N=10 -> W=11 BLOAT=10 %\n",
      "INFO:root:Starting calculating for N=20 GEN MAX=250\n",
      "INFO:root: For N=20 -> W=24 BLOAT=20 %\n",
      "INFO:root:Starting calculating for N=100 GEN MAX=250\n",
      "INFO:root: For N=100 -> W=192 BLOAT=92 %\n",
      "INFO:root:Starting calculating for N=500 GEN MAX=250\n",
      "INFO:root: For N=500 -> W=1394 BLOAT=178 %\n",
      "INFO:root:Starting calculating for N=1000 GEN MAX=250\n",
      "INFO:root: For N=1000 -> W=3397 BLOAT=239 %\n"
     ]
    }
   ],
   "source": [
    "B=[100]\n",
    "logging.getLogger().setLevel(logging.INFO)\n",
    "\n",
    "population = list()\n",
    "for n in PROBLEM_SIZE:\n",
    "\n",
    "    N=n\n",
    "    \n",
    "    OFFSPRING_SIZE = round(N*10)\n",
    "    TOURNAMENT_SIZE = math.ceil(N/5)\n",
    "    generator = problem(N,42)\n",
    "\n",
    "    #Check if a solution exists\n",
    "    if(solvable(generator)==False):\n",
    "        print(\"problem not solvable\")\n",
    "        exit(-1)\n",
    "    \n",
    "    #remove duplicate list\n",
    "    generator = remove_identical(generator)\n",
    "    \n",
    "    '''\n",
    "    for values in range(POPULATION_SIZE):\n",
    "        genome = random.sample(generator, random.randint(1,N)) \n",
    "        population.append(Individual(genome, fitness(genome)))\n",
    "    '''\n",
    "    for genome in generator:\n",
    "        l=list()\n",
    "        l.append(genome)\n",
    "        population.append(Individual(l, fitness(l)))\n",
    "\n",
    "    fitness_log = [(0, i.fitness) for i in population]\n",
    "\n",
    "    #logging.info(f\"init: pop_size={len(population)}; max={max(population, key=lambda i: i.fitness)[1]} \\n\")\n",
    "    logging.info(f\"Starting calculating for N={N} GEN MAX={NUM_GENERATIONS}\")\n",
    "    Evolution(population, generator, fitness_log)"
   ]
  }
 ],
 "metadata": {
  "kernelspec": {
   "display_name": "Python 3.8.10 64-bit",
   "language": "python",
   "name": "python3"
  },
  "language_info": {
   "codemirror_mode": {
    "name": "ipython",
    "version": 3
   },
   "file_extension": ".py",
   "mimetype": "text/x-python",
   "name": "python",
   "nbconvert_exporter": "python",
   "pygments_lexer": "ipython3",
   "version": "3.8.10"
  },
  "orig_nbformat": 4,
  "vscode": {
   "interpreter": {
    "hash": "916dbcbb3f70747c44a77c7bcd40155683ae19c65e1c03b4aa3499c5328201f1"
   }
  }
 },
 "nbformat": 4,
 "nbformat_minor": 2
}
